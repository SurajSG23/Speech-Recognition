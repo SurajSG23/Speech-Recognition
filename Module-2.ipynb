{
 "cells": [
  {
   "cell_type": "markdown",
   "id": "d1ddcc14-ee39-4830-97eb-a32e8fbe071e",
   "metadata": {},
   "source": [
    "# Transciribing Audio with OpenAI's Whisper"
   ]
  },
  {
   "cell_type": "code",
   "execution_count": 8,
   "id": "8a1fac4c-a7d5-4c75-9ab7-89beac0ae6b5",
   "metadata": {},
   "outputs": [],
   "source": [
    "from jiwer import wer, cer\n",
    "import whisper"
   ]
  },
  {
   "cell_type": "code",
   "execution_count": 2,
   "id": "9c13c85e-b321-4861-8016-c37b54166434",
   "metadata": {},
   "outputs": [],
   "source": [
    "file_path = r'D:\\AI-ML\\Speech Recognition\\Files\\speech_01.wav'"
   ]
  },
  {
   "cell_type": "code",
   "execution_count": 3,
   "id": "f4cf4cc1-a953-48b0-8215-654ef0ed3153",
   "metadata": {},
   "outputs": [],
   "source": [
    "model = whisper.load_model(\"base\", device=\"cpu\")"
   ]
  },
  {
   "cell_type": "code",
   "execution_count": 9,
   "id": "f6b702c0-8969-4baf-b907-b5273ad204b4",
   "metadata": {},
   "outputs": [
    {
     "name": "stdout",
     "output_type": "stream",
     "text": [
      " My name is Yvonne and I am excited to have you as part of our learning community. Before we get started, I'd like to tell you a little bit about myself. I'm a sound engineer turned a scientist, curious about machine learning and artificial intelligence. My professional background is primarily in media production, with a focus on audio, IT and communications.\n"
     ]
    }
   ],
   "source": [
    "result = model.transcribe(file_path)\n",
    "transcribed_text_whisper = result[\"text\"]\n",
    "print(transcribed_text_whisper)"
   ]
  },
  {
   "cell_type": "code",
   "execution_count": 5,
   "id": "7bf26e5d-970b-47b8-b26b-fb292e543611",
   "metadata": {},
   "outputs": [
    {
     "data": {
      "text/plain": [
       "'en'"
      ]
     },
     "execution_count": 5,
     "metadata": {},
     "output_type": "execute_result"
    }
   ],
   "source": [
    "result[\"language\"]"
   ]
  },
  {
   "cell_type": "code",
   "execution_count": 6,
   "id": "77fd77d9-4066-4291-93ce-4eeb8d304af2",
   "metadata": {},
   "outputs": [],
   "source": [
    "ground_truth = \"\"\"My name is Ivan and I am excited to have you as part of our learning community! \n",
    "Before we get started, I’d like to tell you a little bit about myself. I’m a sound engineer turned data scientist,\n",
    "curious about machine learning and Artificial Intelligence. My professional background is primarily in media production,\n",
    "with a focus on audio, IT, and communications\"\"\""
   ]
  },
  {
   "cell_type": "code",
   "execution_count": 10,
   "id": "370aab99-4471-4b81-9ac8-845cd131d480",
   "metadata": {},
   "outputs": [
    {
     "name": "stdout",
     "output_type": "stream",
     "text": [
      "Word Error Rate (WER): 0.2203\n",
      "Character Error Rate (CER): 0.0470\n"
     ]
    }
   ],
   "source": [
    "calculated_wer = wer(ground_truth, transcribed_text_whisper)\n",
    "calculated_cer = cer(ground_truth, transcribed_text_whisper)\n",
    "print(f\"Word Error Rate (WER): {calculated_wer:.4f}\")\n",
    "print(f\"Character Error Rate (CER): {calculated_cer:.4f}\")"
   ]
  },
  {
   "cell_type": "code",
   "execution_count": null,
   "id": "b5b1751a-a23d-412d-ba32-77d97792860c",
   "metadata": {},
   "outputs": [],
   "source": []
  }
 ],
 "metadata": {
  "kernelspec": {
   "display_name": "Python (llms_course_env)",
   "language": "python",
   "name": "llms_course_env"
  },
  "language_info": {
   "codemirror_mode": {
    "name": "ipython",
    "version": 3
   },
   "file_extension": ".py",
   "mimetype": "text/x-python",
   "name": "python",
   "nbconvert_exporter": "python",
   "pygments_lexer": "ipython3",
   "version": "3.11.13"
  }
 },
 "nbformat": 4,
 "nbformat_minor": 5
}
